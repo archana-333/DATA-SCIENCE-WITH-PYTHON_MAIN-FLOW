{
 "cells": [
  {
   "cell_type": "markdown",
   "metadata": {},
   "source": [
    "## List:"
   ]
  },
  {
   "cell_type": "code",
   "execution_count": 2,
   "metadata": {},
   "outputs": [
    {
     "name": "stdout",
     "output_type": "stream",
     "text": [
      "Original list: [1, 2, 3, 4, 5]\n",
      "List after adding an element: [1, 2, 3, 4, 5, 6]\n",
      "List after removing an element: [1, 2, 4, 5, 6]\n",
      "List after modifying an element: [1, 2, 10, 5, 6]\n"
     ]
    }
   ],
   "source": [
    "# Creating a list\n",
    "list1 = [1, 2, 3, 4, 5]\n",
    "print(\"Original list:\", list1)\n",
    "\n",
    "# Adding an element to the list\n",
    "list1.append(6)\n",
    "print(\"List after adding an element:\", list1)\n",
    "\n",
    "# Removing an element from the list\n",
    "list1.remove(3)\n",
    "print(\"List after removing an element:\", list1)\n",
    "\n",
    "# Modifying an element in the list\n",
    "list1[2] = 10\n",
    "print(\"List after modifying an element:\", list1)\n"
   ]
  },
  {
   "cell_type": "markdown",
   "metadata": {},
   "source": [
    "## Dictionary"
   ]
  },
  {
   "cell_type": "code",
   "execution_count": 7,
   "metadata": {},
   "outputs": [
    {
     "name": "stdout",
     "output_type": "stream",
     "text": [
      "\n",
      "Student information: {'name': 'Archana', 'age': 19, 'course': 'Computer Science'}\n",
      "Dictionary after adding an element: {'name': 'Archana', 'age': 19, 'course': 'Computer Science', 'ID': 'O190041'}\n",
      "Student information after update: {'name': 'Archana', 'age': 18, 'course': 'Computer Science', 'ID': 'O190041'}\n",
      "Dictionary after removing an element: {'name': 'Archana', 'course': 'Computer Science', 'ID': 'O190041'}\n"
     ]
    }
   ],
   "source": [
    "# Creating a dictionary\n",
    "student = {\n",
    "    \"name\": \"Archana\",\n",
    "    \"age\": 19,\n",
    "    \"course\": \"Computer Science\"\n",
    "}\n",
    "\n",
    "# Print the dictionary\n",
    "print(\"\\nStudent information:\", student)\n",
    "\n",
    "#adding an element to the dictionary\n",
    "student[\"ID\"]=\"O190041\"\n",
    "print(\"Dictionary after adding an element:\",student)\n",
    "\n",
    "# Modify a value in the dictionary (change age)\n",
    "student[\"age\"] = 18\n",
    "print(\"Student information after update:\", student)\n",
    "\n",
    "#Removing an element from the dictionary\n",
    "del student[\"age\"]\n",
    "print(\"Dictionary after removing an element:\",student)\n"
   ]
  },
  {
   "cell_type": "markdown",
   "metadata": {},
   "source": [
    "## set"
   ]
  },
  {
   "cell_type": "code",
   "execution_count": 9,
   "metadata": {},
   "outputs": [
    {
     "name": "stdout",
     "output_type": "stream",
     "text": [
      "\n",
      "Set of colors: {'red', 'green', 'blue'}\n",
      "Set of colors after adding yellow: {'red', 'green', 'blue', 'yellow'}\n",
      "\n",
      "Set after removing an element: {'green', 'blue', 'yellow'}\n"
     ]
    }
   ],
   "source": [
    "# Creating a set\n",
    "colors = {\"red\", \"green\", \"blue\", \"red\"}  \n",
    "\n",
    "# Print the set \n",
    "print(\"\\nSet of colors:\", colors)\n",
    "\n",
    "# Add a new element to the set\n",
    "colors.add(\"yellow\")\n",
    "# Print the modified set\n",
    "print(\"Set of colors after adding yellow:\", colors)\n",
    "\n",
    "#Remove an element from the set\n",
    "colors.remove(\"red\")\n",
    "print(\"\\nSet after removing an element:\", colors)"
   ]
  }
 ],
 "metadata": {
  "kernelspec": {
   "display_name": "Python 3",
   "language": "python",
   "name": "python3"
  },
  "language_info": {
   "codemirror_mode": {
    "name": "ipython",
    "version": 3
   },
   "file_extension": ".py",
   "mimetype": "text/x-python",
   "name": "python",
   "nbconvert_exporter": "python",
   "pygments_lexer": "ipython3",
   "version": "3.7.3"
  }
 },
 "nbformat": 4,
 "nbformat_minor": 2
}
